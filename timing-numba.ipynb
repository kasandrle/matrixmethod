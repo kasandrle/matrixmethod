{
 "cells": [
  {
   "cell_type": "code",
   "execution_count": 1,
   "metadata": {
    "collapsed": false
   },
   "outputs": [
    {
     "name": "stderr",
     "output_type": "stream",
     "text": [
      "/home/mpfluege/.local/lib/python3.4/site-packages/IPython/kernel/__init__.py:13: ShimWarning: The `IPython.kernel` package has been deprecated. You should import from ipykernel or jupyter_client instead.\n",
      "  \"You should import from ipykernel or jupyter_client instead.\", ShimWarning)\n"
     ]
    }
   ],
   "source": [
    "import os\n",
    "os.environ['NUMBA_WARNINGS'] = '1'\n",
    "import numpy as np\n",
    "import numba\n",
    "\n",
    "import matplotlib\n",
    "%matplotlib notebook\n",
    "import matplotlib.pyplot as plt\n",
    "\n",
    "from matrixmethod import reflec_and_trans\n",
    "import matrixmethod_numba\n",
    "from matrixmethod_numba import reflec_and_trans as reflec_and_trans_numba, fields, fields_positions"
   ]
  },
  {
   "cell_type": "code",
   "execution_count": 2,
   "metadata": {
    "collapsed": false
   },
   "outputs": [],
   "source": [
    "from Anton_XRR import reflectivity\n",
    "def anton_xrr(ang_deg, wl, n, rough):\n",
    "    l = len(ang_deg)\n",
    "    AOI = 90.-ang_deg\n",
    "    wavelengths = np.array([wl]*l)\n",
    "    n = np.outer(n, np.ones(l))\n",
    "    t = np.concatenate([thick, [0]])\n",
    "    t = np.outer(t, np.ones(l))\n",
    "    sigma = rough\n",
    "    kz_AOI, kx_AOI = reflectivity.helper.k_z_generator(AOI, wavelengths, n)\n",
    "    r, trans = reflectivity.matrixmethod_xrr.amplitudes(n, wavelengths, kz_AOI, t, sigma)\n",
    "    return r, trans"
   ]
  },
  {
   "cell_type": "code",
   "execution_count": 3,
   "metadata": {
    "collapsed": false
   },
   "outputs": [],
   "source": [
    "#n = np.array([1] + [1-1e-5+1e-6j]*20 + [1-2e-5+2e-6j] + [1]*11)\n",
    "n = np.array([1] + [1-1e-5+1e-6j]*20 + [1-2e-5+2e-6j])\n",
    "#rough = np.array([0.5]*22+[0]*10)\n",
    "rough = np.array([0.]*21)\n",
    "#thick = np.array([1.]*(21+10))\n",
    "thick = np.array([1.]*20)\n",
    "wl = 0.15\n",
    "ang_deg = np.linspace(0, 1, 101)[1:]\n",
    "ang = np.deg2rad(ang_deg)\n",
    "#positions = np.linspace(2,-100, 102*10 +1)\n",
    "positions = np.linspace(100, -120, 220*10+1)"
   ]
  },
  {
   "cell_type": "code",
   "execution_count": 4,
   "metadata": {
    "collapsed": false
   },
   "outputs": [],
   "source": [
    "mr, mt = reflec_and_trans(n, wl, ang, thick, rough)\n",
    "nr, nt = fields(n, wl, ang, thick, rough)\n",
    "nr = np.array(nr)\n",
    "nt = np.array(nt)\n",
    "fr, ft, posr, post = fields_positions(n, wl, ang, thick, rough, positions)\n",
    "fr = np.array(fr)\n",
    "ft = np.array(ft)\n",
    "posr = np.array(posr)\n",
    "post = np.array(post)\n",
    "ar, at = anton_xrr(ang_deg, wl, n, rough)"
   ]
  },
  {
   "cell_type": "code",
   "execution_count": 6,
   "metadata": {
    "collapsed": false
   },
   "outputs": [
    {
     "name": "stdout",
     "output_type": "stream",
     "text": [
      "1000 loops, best of 3: 426 µs per loop\n",
      "1000 loops, best of 3: 599 µs per loop\n",
      "10 loops, best of 3: 23.4 ms per loop\n",
      "1000 loops, best of 3: 1.05 ms per loop\n"
     ]
    }
   ],
   "source": [
    "#%timeit reflec_and_trans(n, wl, ang, thick, rough)\n",
    "%timeit reflec_and_trans_numba(n, wl, ang, thick, rough)\n",
    "%timeit fields(n, wl, ang, thick, rough)\n",
    "%timeit fields_positions(n, wl, ang, thick, rough, positions)\n",
    "%timeit anton_xrr(ang_deg, wl, n, rough)"
   ]
  },
  {
   "cell_type": "code",
   "execution_count": 7,
   "metadata": {
    "collapsed": false
   },
   "outputs": [
    {
     "data": {
      "text/plain": [
       "1.9612068965517242"
      ]
     },
     "execution_count": 7,
     "metadata": {},
     "output_type": "execute_result"
    }
   ],
   "source": [
    "45.5/23.2"
   ]
  },
  {
   "cell_type": "code",
   "execution_count": null,
   "metadata": {
    "collapsed": false
   },
   "outputs": [],
   "source": []
  },
  {
   "cell_type": "code",
   "execution_count": null,
   "metadata": {
    "collapsed": false
   },
   "outputs": [],
   "source": [
    "plt.figure()\n",
    "plt.plot(ang_deg, np.abs(mr)**2, label='simple r')\n",
    "#plt.plot(ang_deg, np.abs(np.array(Ap).T[0])**2, label='numba A+')\n",
    "plt.plot(ang_deg, np.abs(ar[0])**2, label='anton r')\n",
    "plt.plot(ang_deg, np.abs(nr[:,0])**2, label='numba r')\n",
    "plt.plot(ang_deg, np.abs(fr[:,0])**2, label='fields r')\n",
    "plt.legend(loc='lower right')\n",
    "plt.yscale('log')\n",
    "plt.figure()\n",
    "#plt.plot(ang_deg, np.abs(np.array(Am).T[-1])**2, label='numba A-')\n",
    "plt.plot(ang_deg, np.abs(at[-1])**2, label='anton t')\n",
    "plt.plot(ang_deg, np.abs(mt)**2, label='simple t')\n",
    "plt.plot(ang_deg, np.abs(nt[:,-1])**2, label='numba t')\n",
    "plt.plot(ang_deg, np.abs(ft[:,-1])**2, label='fields t')\n",
    "plt.yscale('log')\n",
    "plt.legend(loc='lower right')"
   ]
  },
  {
   "cell_type": "code",
   "execution_count": null,
   "metadata": {
    "collapsed": false
   },
   "outputs": [],
   "source": [
    "Z = np.array([0]+list(-np.cumsum(thick)) + [-np.sum(thick)])\n",
    "plt.figure()\n",
    "#plt.plot(positions, np.abs(post[60]), label='Abs trans')\n",
    "#plt.plot(positions, np.abs(posr[60]), label='Abs reflc')\n",
    "#plt.plot(positions, np.real(post[60]), label='Re trans')\n",
    "#plt.plot(positions, np.real(posr[60]), label='Re reflc')\n",
    "plt.plot(positions, np.abs(post[60] + posr[60]), label='Abs total')\n",
    "#plt.plot(positions, np.abs(post[60] + posr[60])**2, label='Abs total²')\n",
    "plt.plot(positions, np.real(post[60] + posr[60]), label='Re total')\n",
    "plt.plot(positions, np.abs(post[70] + posr[70]), label='Abs total 7')\n",
    "#plt.plot(positions, np.abs(post[70] + posr[70])**2, label='Abs total² 7')\n",
    "plt.plot(positions, np.real(post[70] + posr[70]), label='Re total 7')\n",
    "#plt.plot(positions, np.imag(post[60] + posr[60]), label='Im total')\n",
    "#plt.plot(positions, np.abs(posr[60]+post[60])**2, label='Abs total')\n",
    "#plt.plot(Z, np.abs(fr[60]+ft[60,-1])**2, label='Abs total Z')\n",
    "#plt.plot(positions, np.real(posr[0]), label='Re reflc')\n",
    "#plt.plot(positions, np.real(posr[0]+post[0]), label='Re total')\n",
    "#plt.plot(positions, np.imag(posr[0]+post[0]), label='Im total')\n",
    "#plt.plot(positions, np.abs(posr[0]+post[0]), label='Abs total')\n",
    "#plt.plot(positions, np.abs(posr[0])**2, label='reflc')\n",
    "plt.legend(loc='upper left')\n",
    "plt.grid()\n",
    "#plt.yscale('log')"
   ]
  },
  {
   "cell_type": "code",
   "execution_count": null,
   "metadata": {
    "collapsed": false
   },
   "outputs": [],
   "source": [
    "from ipywidgets import interact"
   ]
  },
  {
   "cell_type": "code",
   "execution_count": null,
   "metadata": {
    "collapsed": false
   },
   "outputs": [],
   "source": [
    "@interact\n",
    "def plot_int(x=60):\n",
    "    fig, ax = plt.subplots()\n",
    "    ax.plot(positions, np.abs(post[x] + posr[x]), label='Abs total')\n",
    "    ax.plot(positions, np.real(post[x] + posr[x]), label='Re total')\n",
    "    ax.legend(loc='upper left')\n",
    "    ax.grid()\n"
   ]
  },
  {
   "cell_type": "code",
   "execution_count": null,
   "metadata": {
    "collapsed": false
   },
   "outputs": [],
   "source": [
    "nt[:,0]"
   ]
  },
  {
   "cell_type": "code",
   "execution_count": null,
   "metadata": {
    "collapsed": false
   },
   "outputs": [],
   "source": [
    "Aps = np.array(Ap).T\n",
    "Aps.shape\n",
    "Ams = np.array(Am).T\n",
    "Ams.shape"
   ]
  },
  {
   "cell_type": "code",
   "execution_count": null,
   "metadata": {
    "collapsed": false
   },
   "outputs": [],
   "source": []
  },
  {
   "cell_type": "code",
   "execution_count": null,
   "metadata": {
    "collapsed": false
   },
   "outputs": [],
   "source": [
    "(rr - rrr[0]).max()"
   ]
  },
  {
   "cell_type": "code",
   "execution_count": null,
   "metadata": {
    "collapsed": false
   },
   "outputs": [],
   "source": [
    "rr"
   ]
  },
  {
   "cell_type": "code",
   "execution_count": null,
   "metadata": {
    "collapsed": false
   },
   "outputs": [],
   "source": [
    "np.abs(np.array(tt))**2"
   ]
  },
  {
   "cell_type": "code",
   "execution_count": null,
   "metadata": {
    "collapsed": false
   },
   "outputs": [],
   "source": [
    "np.abs(np.array(t))**2"
   ]
  },
  {
   "cell_type": "code",
   "execution_count": null,
   "metadata": {
    "collapsed": true
   },
   "outputs": [],
   "source": []
  }
 ],
 "metadata": {
  "kernelspec": {
   "display_name": "Python 3 (anaconda)",
   "language": "python3-anaconda",
   "name": "python3-anaconda"
  },
  "language_info": {
   "codemirror_mode": {
    "name": "ipython",
    "version": 3
   },
   "file_extension": ".py",
   "mimetype": "text/x-python",
   "name": "python",
   "nbconvert_exporter": "python",
   "pygments_lexer": "ipython3",
   "version": "3.4.3"
  }
 },
 "nbformat": 4,
 "nbformat_minor": 0
}
