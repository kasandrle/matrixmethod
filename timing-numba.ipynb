{
 "cells": [
  {
   "cell_type": "code",
   "execution_count": 1,
   "metadata": {
    "collapsed": false
   },
   "outputs": [
    {
     "name": "stderr",
     "output_type": "stream",
     "text": [
      "/home/mpfluege/.local/lib/python3.4/site-packages/IPython/kernel/__init__.py:13: ShimWarning: The `IPython.kernel` package has been deprecated. You should import from ipykernel or jupyter_client instead.\n",
      "  \"You should import from ipykernel or jupyter_client instead.\", ShimWarning)\n"
     ]
    }
   ],
   "source": [
    "import os\n",
    "os.environ['NUMBA_WARNINGS'] = '1'\n",
    "import numpy as np\n",
    "import numba\n",
    "\n",
    "import matplotlib\n",
    "%matplotlib notebook\n",
    "import matplotlib.pyplot as plt\n",
    "\n",
    "from matrixmethod import reflec_and_trans\n",
    "import matrixmethod_numba\n",
    "from matrixmethod_numba import reflec_and_trans as reflec_and_trans_numba"
   ]
  },
  {
   "cell_type": "code",
   "execution_count": 2,
   "metadata": {
    "collapsed": false
   },
   "outputs": [],
   "source": [
    "from Anton_XRR import reflectivity\n",
    "def anton_xrr(ang_deg, wl, n):\n",
    "    l = len(ang_deg)\n",
    "    AOI = 90.-ang_deg\n",
    "    wavelengths = np.array([wl]*l)\n",
    "    n = np.outer(n, np.ones(l))\n",
    "    t = np.concatenate([thick, [0]])\n",
    "    t = np.outer(t, np.ones(l))\n",
    "    sigma = 0.\n",
    "    kz_AOI, kx_AOI = reflectivity.helper.k_z_generator(AOI, wavelengths, n)\n",
    "    r, trans = reflectivity.matrixmethod_xrr.amplitudes(n, wavelengths, kz_AOI, t, sigma)\n",
    "    return r, trans"
   ]
  },
  {
   "cell_type": "code",
   "execution_count": 3,
   "metadata": {
    "collapsed": false
   },
   "outputs": [],
   "source": [
    "n = np.array([1] + [1-1e-5+1e-6j]*100 + [1-2e-5+2e-6j])\n",
    "thick = np.array([1.]*100)\n",
    "wl = 0.15\n",
    "ang_deg = np.linspace(0, 1, 1001)[1:]\n",
    "ang = np.deg2rad(ang_deg)"
   ]
  },
  {
   "cell_type": "code",
   "execution_count": 6,
   "metadata": {
    "collapsed": false
   },
   "outputs": [
    {
     "name": "stdout",
     "output_type": "stream",
     "text": [
      "1 loops, best of 3: 2.67 s per loop\n",
      "100 loops, best of 3: 13.5 ms per loop\n",
      "10 loops, best of 3: 47.5 ms per loop\n"
     ]
    }
   ],
   "source": [
    "%timeit reflec_and_trans(n, wl, ang, thick)\n",
    "%timeit reflec_and_trans_numba(n, wl, ang, thick)\n",
    "%timeit anton_xrr(ang_deg, wl, n)"
   ]
  },
  {
   "cell_type": "code",
   "execution_count": null,
   "metadata": {
    "collapsed": false
   },
   "outputs": [],
   "source": [
    "r, t = reflec_and_trans(n, wl, ang, thick)\n",
    "rr, tt = reflec_and_trans_numba(n, wl, ang, thick)\n",
    "rrr, ttt = anton_xrr(ang_deg, wl, n)"
   ]
  },
  {
   "cell_type": "code",
   "execution_count": null,
   "metadata": {
    "collapsed": false
   },
   "outputs": [],
   "source": [
    "plt.figure()\n",
    "plt.plot(ang_deg, np.abs(r)**2)\n",
    "plt.plot(ang_deg, np.abs(rr)**2)\n",
    "plt.plot(ang_deg, np.abs(rrr[0])**2)\n",
    "#plt.plot(ang_deg, np.abs(t)**2)\n",
    "plt.yscale('log')"
   ]
  },
  {
   "cell_type": "code",
   "execution_count": null,
   "metadata": {
    "collapsed": true
   },
   "outputs": [],
   "source": []
  },
  {
   "cell_type": "code",
   "execution_count": null,
   "metadata": {
    "collapsed": true
   },
   "outputs": [],
   "source": []
  },
  {
   "cell_type": "code",
   "execution_count": null,
   "metadata": {
    "collapsed": false
   },
   "outputs": [],
   "source": []
  },
  {
   "cell_type": "code",
   "execution_count": null,
   "metadata": {
    "collapsed": true
   },
   "outputs": [],
   "source": []
  }
 ],
 "metadata": {
  "kernelspec": {
   "display_name": "Python 3 (anaconda)",
   "language": "python3-anaconda",
   "name": "python3-anaconda"
  },
  "language_info": {
   "codemirror_mode": {
    "name": "ipython",
    "version": 3
   },
   "file_extension": ".py",
   "mimetype": "text/x-python",
   "name": "python",
   "nbconvert_exporter": "python",
   "pygments_lexer": "ipython3",
   "version": "3.4.3"
  }
 },
 "nbformat": 4,
 "nbformat_minor": 0
}
