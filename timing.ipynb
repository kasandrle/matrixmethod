{
 "cells": [
  {
   "cell_type": "code",
   "execution_count": null,
   "metadata": {
    "collapsed": false
   },
   "outputs": [],
   "source": [
    "import matrixmethod\n",
    "import matrixmethod_cython\n",
    "import numpy as np\n",
    "import matplotlib\n",
    "%matplotlib notebook\n",
    "import matplotlib.pyplot as plt\n",
    "from Anton_XRR import reflectivity\n",
    "import pint\n",
    "u = pint.UnitRegistry()\n",
    "%load_ext Cython"
   ]
  },
  {
   "cell_type": "code",
   "execution_count": null,
   "metadata": {
    "collapsed": false
   },
   "outputs": [],
   "source": [
    "n = np.array([1, 1-1e-5+1e-6j, 1-2e-5+2e-6j])\n",
    "thick = np.array([100.])\n",
    "wl = 0.15\n",
    "ang_deg = np.linspace(0, 1, 1001)[1:]\n",
    "ang = np.deg2rad(ang_deg)\n",
    "\n",
    "%timeit matrixmethod.reflec_and_trans(n, wl, ang, thick)\n",
    "r, t = matrixmethod.reflec_and_trans(n, wl, ang, thick)\n",
    "r = np.array(r)\n",
    "t = np.array(t)\n",
    "\n",
    "%timeit matrixmethod_cython.reflec_and_trans(n, wl, ang, thick)\n",
    "rrr, ttt = matrixmethod_cython.reflec_and_trans(n, wl, ang, thick)\n",
    "rrr = np.array(rrr)\n",
    "ttt = np.array(ttt)\n",
    "\n",
    "def anton_xrr(ang_deg, wl, n):\n",
    "    l = len(ang_deg)\n",
    "    AOI = 90.-ang_deg\n",
    "    wavelengths = np.array([wl]*l)\n",
    "    sigma = np.array([0, 0])\n",
    "    t = np.array(thick + [0.])\n",
    "    t = np.outer(t, np.ones(l))\n",
    "    n = np.outer(n, np.ones(l))\n",
    "    kz_AOI, kx_AOI = reflectivity.helper.k_z_generator(AOI, wavelengths, n)\n",
    "    r, trans = reflectivity.matrixmethod_xrr.amplitudes(n, wavelengths, kz_AOI, t, sigma)\n",
    "    return r, trans\n",
    "%timeit anton_xrr(ang_deg, wl, n)\n",
    "rr, tt = anton_xrr(ang_deg, wl, n)"
   ]
  },
  {
   "cell_type": "code",
   "execution_count": null,
   "metadata": {
    "collapsed": false
   },
   "outputs": [],
   "source": []
  },
  {
   "cell_type": "code",
   "execution_count": null,
   "metadata": {
    "collapsed": false
   },
   "outputs": [],
   "source": [
    "plt.figure()\n",
    "plt.plot(ang_deg, np.abs(r)**2)\n",
    "plt.plot(ang_deg, np.abs(rr[0])**2)\n",
    "plt.plot(ang_deg, np.abs(rrr)**2)\n",
    "#plt.plot(ang_deg, np.abs(t)**2)\n",
    "plt.yscale('log')"
   ]
  },
  {
   "cell_type": "code",
   "execution_count": null,
   "metadata": {
    "collapsed": false
   },
   "outputs": [],
   "source": []
  },
  {
   "cell_type": "code",
   "execution_count": null,
   "metadata": {
    "collapsed": true
   },
   "outputs": [],
   "source": []
  }
 ],
 "metadata": {
  "kernelspec": {
   "display_name": "Python 3",
   "language": "python3",
   "name": "python3"
  },
  "language_info": {
   "codemirror_mode": {
    "name": "ipython",
    "version": 3
   },
   "file_extension": ".py",
   "mimetype": "text/x-python",
   "name": "python",
   "nbconvert_exporter": "python",
   "pygments_lexer": "ipython3",
   "version": "3.4.1"
  }
 },
 "nbformat": 4,
 "nbformat_minor": 0
}
